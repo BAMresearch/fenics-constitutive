{
 "cells": [
  {
   "cell_type": "markdown",
   "metadata": {},
   "source": [
    "# Notation\n",
    "\n",
    "For a linear elastic material model, the ufl form `a` for the stiffness matrix can be created like this:"
   ]
  },
  {
   "cell_type": "code",
   "execution_count": 104,
   "metadata": {},
   "outputs": [],
   "source": [
    "import dolfin as df\n",
    "import numpy as np\n",
    "\n",
    "E = 1.0\n",
    "nu = 0.3\n",
    "lmbda = E * nu / (1 + nu) / (1 - 2 * nu)\n",
    "mu = E / (2.0 * (1 + nu))\n",
    "\n",
    "mesh = df.UnitCubeMesh(1, 1, 1)\n",
    "\n",
    "V = df.VectorFunctionSpace(mesh, \"Lagrange\", 2)\n",
    "\n",
    "u = df.TestFunction(V)\n",
    "v = df.TrialFunction(V)\n",
    "\n",
    "\n",
    "def eps(u):\n",
    "    return df.sym(df.grad(u))\n",
    "\n",
    "\n",
    "def sigma(u):\n",
    "    return lmbda * df.tr(eps(u)) * df.Identity(3) + 2.0 * mu * eps(u)\n",
    "\n",
    "\n",
    "a = df.inner(eps(v), sigma(u)) * df.dx"
   ]
  },
  {
   "cell_type": "markdown",
   "metadata": {},
   "source": [
    "The last line represents the integral\n",
    "$$\n",
    "a = \\int \\sigma : \\varepsilon \\mathrm d x\n",
    "$$\n",
    "which can be expressed with the elastic stiffness tensor $D_e$ for the case of linear elasticity:\n",
    "$$\n",
    "a = \\int   \\varepsilon :(D_e :\\varepsilon) \\mathrm d x.\n",
    "$$\n",
    "\n",
    "For a nonlinear constitutive model, the elasticity tensor must be replaced with a consistent tangent, which is generally not constant on the mesh."
   ]
  },
  {
   "cell_type": "markdown",
   "metadata": {},
   "source": [
    "## Mandel notation\n",
    "\n",
    "It is useful to write the symmetric tensors as matrices and vectors, such that $D_e \\in \\mathbb R ^{4,4}$, $\\sigma, \\varepsilon \\in \\mathbb R ^4$ for plane strain or $D_e \\in \\mathbb R ^{6,6}$, $\\sigma, \\varepsilon \\in \\mathbb R ^6$ for 3d strains and stresses.\n",
    "For our purposes, the [Mandel notation](https://en.wikipedia.org/wiki/Voigt_notation#Mandel_notation) is most useful. \n",
    "\n",
    "$$\n",
    "a = \\begin{bmatrix}\n",
    "a_{11} & a_{12} & a_{13}\\\\\n",
    "a_{12} & a_{22} & a_{23}\\\\\n",
    "a_{13} & a_{23} & a_{33}\n",
    "\\end{bmatrix}\n",
    "\\hat= \\left[ a_{11},a_{22},a_{33},\\sqrt 2 a_{23},\\sqrt 2 a_{13},\\sqrt 2 a_{12}\\right]^\\top = \\vec a\n",
    "$$\n",
    "\n",
    "It has the advantage that an inner product of two symmetric tensors can be expressed by the inner product of to vectors. The same is true for outer products.\n",
    "\n",
    "$$\n",
    "a:b= a_{11}b_{11}+a_{22}b_{22} + a_{33}b_{33} + 2a_{23}b_{23}+2a_{13}b_{13}+2a_{12}b_{12}=\\vec a \\cdot \\vec b\n",
    "$$\n",
    "\n",
    "Therefore:\n",
    "\n",
    "$$\n",
    "a = \\int   \\vec\\varepsilon \\cdot D_e \\cdot\\vec\\varepsilon \\mathrm d x\n",
    "$$\n",
    "\n",
    "The computation of the strain is changed to"
   ]
  },
  {
   "cell_type": "code",
   "execution_count": 116,
   "metadata": {},
   "outputs": [],
   "source": [
    "def eps_mandel(u):\n",
    "    e = df.sym(df.grad(u))\n",
    "    return df.as_vector(\n",
    "        [\n",
    "            e[0, 0],\n",
    "            e[1, 1],\n",
    "            e[2, 2],\n",
    "            2 ** 0.5 * e[1, 2],\n",
    "            2 ** 0.5 * e[0, 2],\n",
    "            2 ** 0.5 * e[0, 1],\n",
    "        ]\n",
    "    )"
   ]
  },
  {
   "cell_type": "markdown",
   "metadata": {},
   "source": [
    "## Quadrature spaces\n",
    "\n",
    "In order to evaluate the integral, the integrand needs to be evaluated at the quadrature points. For a nonlinear material model, the tangent is generally not the constant elastic tangent. Using a QuadratureSpace of dimension $6\\times6$, we can store one tangent for each integration point and use it in a ufl expression. "
   ]
  },
  {
   "cell_type": "code",
   "execution_count": 117,
   "metadata": {},
   "outputs": [],
   "source": [
    "import warnings\n",
    "from ffc.quadrature.deprecation import QuadratureRepresentationDeprecationWarning\n",
    "\n",
    "df.parameters[\"form_compiler\"][\"representation\"] = \"quadrature\"\n",
    "warnings.simplefilter(\"ignore\", QuadratureRepresentationDeprecationWarning)\n",
    "\n",
    "metadata = {\"quadrature_degree\": 2, \"quadrature_scheme\": \"default\"}\n",
    "dxm = df.dx(metadata=metadata)\n",
    "\n",
    "WCe = df.TensorElement(\n",
    "    \"Quadrature\", mesh.ufl_cell(), degree=2, shape=(6, 6), quad_scheme=\"default\",\n",
    ")\n",
    "WC = df.FunctionSpace(mesh, WCe)\n",
    "C = df.Function(WC)"
   ]
  },
  {
   "cell_type": "markdown",
   "metadata": {},
   "source": [
    "We will now fill the empty space `C` repeatedly with the elasticity matrix, by directly accessing the vector which stores the numerical values of the Function object. For a more complex model, this would mean iterating over all integration points and saving the flattened tangent at the right point of the vector."
   ]
  },
  {
   "cell_type": "code",
   "execution_count": 118,
   "metadata": {},
   "outputs": [],
   "source": [
    "D = np.array(\n",
    "    [\n",
    "        [2 * mu + lmbda, lmbda, lmbda, 0, 0, 0],\n",
    "        [lmbda, 2 * mu + lmbda, lmbda, 0, 0, 0],\n",
    "        [lmbda, lmbda, 2 * mu + lmbda, 0, 0, 0],\n",
    "        [0, 0, 0, 2 * mu, 0, 0],\n",
    "        [0, 0, 0, 0, 2 * mu, 0],\n",
    "        [0, 0, 0, 0, 0, 2 * mu],\n",
    "    ]\n",
    ")\n",
    "\n",
    "n = WC.dim() // (6 * 6)\n",
    "\n",
    "C.vector().set_local(np.tile(D.flatten(), n))\n",
    "C.vector().apply(\"insert\")"
   ]
  },
  {
   "cell_type": "markdown",
   "metadata": {},
   "source": [
    "Assembling the stiffnes matrices from the two approaches and calculating the difference shows us that both mehtods yield the same results."
   ]
  },
  {
   "cell_type": "code",
   "execution_count": 119,
   "metadata": {},
   "outputs": [
    {
     "name": "stdout",
     "output_type": "stream",
     "text": [
      "Difference between matrices: 2.475866723157273e-15\n"
     ]
    }
   ],
   "source": [
    "a_mandel = df.inner(eps_mandel(u), df.dot(C, eps_mandel(v))) * dxm\n",
    "\n",
    "K = df.assemble(a)\n",
    "K_mandel = df.assemble(a_mandel)\n",
    "\n",
    "print(\"Difference between matrices:\", np.linalg.norm(K.array() - K_mandel.array()))"
   ]
  },
  {
   "cell_type": "code",
   "execution_count": null,
   "metadata": {},
   "outputs": [],
   "source": []
  }
 ],
 "metadata": {
  "kernelspec": {
   "display_name": "Python 3",
   "language": "python",
   "name": "python3"
  },
  "language_info": {
   "codemirror_mode": {
    "name": "ipython",
    "version": 3
   },
   "file_extension": ".py",
   "mimetype": "text/x-python",
   "name": "python",
   "nbconvert_exporter": "python",
   "pygments_lexer": "ipython3",
   "version": "3.8.1"
  }
 },
 "nbformat": 4,
 "nbformat_minor": 4
}
